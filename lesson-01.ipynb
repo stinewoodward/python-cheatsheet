{
 "cells": [
  {
   "cell_type": "code",
   "execution_count": 1,
   "metadata": {},
   "outputs": [
    {
     "name": "stdout",
     "output_type": "stream",
     "text": [
      "Yes, it's true.\n"
     ]
    }
   ],
   "source": [
    "if True:\n",
    "    print('Yes, it\\'s true.') # 4 spaces of indentation\n",
    "else:\n",
    "    print('Must not be true') # commenting is fun"
   ]
  },
  {
   "cell_type": "code",
   "execution_count": 2,
   "metadata": {},
   "outputs": [
    {
     "name": "stdout",
     "output_type": "stream",
     "text": [
      "hello world\n",
      "first statement\n",
      "second statement\n"
     ]
    },
    {
     "ename": "NameError",
     "evalue": "name 'Print' is not defined",
     "output_type": "error",
     "traceback": [
      "\u001b[1;31m---------------------------------------------------------------------------\u001b[0m",
      "\u001b[1;31mNameError\u001b[0m                                 Traceback (most recent call last)",
      "\u001b[1;32m<ipython-input-2-11f5852643aa>\u001b[0m in \u001b[0;36m<module>\u001b[1;34m\u001b[0m\n\u001b[0;32m      3\u001b[0m \u001b[0mprint\u001b[0m\u001b[1;33m(\u001b[0m\u001b[1;34m'first statement'\u001b[0m\u001b[1;33m)\u001b[0m \u001b[1;31m# comment for the first statement\u001b[0m\u001b[1;33m\u001b[0m\u001b[0m\n\u001b[0;32m      4\u001b[0m \u001b[0mprint\u001b[0m\u001b[1;33m(\u001b[0m\u001b[1;34m'second statement'\u001b[0m\u001b[1;33m)\u001b[0m\u001b[1;33m\u001b[0m\u001b[0m\n\u001b[1;32m----> 5\u001b[1;33m \u001b[0mPrint\u001b[0m\u001b[1;33m(\u001b[0m\u001b[1;34m'third statement'\u001b[0m\u001b[1;33m)\u001b[0m \u001b[1;31m# will throw an error\u001b[0m\u001b[1;33m\u001b[0m\u001b[0m\n\u001b[0m",
      "\u001b[1;31mNameError\u001b[0m: name 'Print' is not defined"
     ]
    }
   ],
   "source": [
    "print('hello world')\n",
    "\n",
    "print('first statement') # comment for the first statement\n",
    "print('second statement')\n",
    "Print('third statement') # will throw an error because it has a capital P"
   ]
  },
  {
   "cell_type": "code",
   "execution_count": 3,
   "metadata": {},
   "outputs": [
    {
     "name": "stdout",
     "output_type": "stream",
     "text": [
      "56\n"
     ]
    }
   ],
   "source": [
    "sum = 15 + \\\n",
    "    26 + \\\n",
    "    15\n",
    "print(sum) # 56"
   ]
  },
  {
   "cell_type": "code",
   "execution_count": 4,
   "metadata": {},
   "outputs": [
    {
     "ename": "SyntaxError",
     "evalue": "invalid syntax (<ipython-input-4-94de8bf041be>, line 3)",
     "output_type": "error",
     "traceback": [
      "\u001b[1;36m  File \u001b[1;32m\"<ipython-input-4-94de8bf041be>\"\u001b[1;36m, line \u001b[1;32m3\u001b[0m\n\u001b[1;33m    6Change = 100 * (b – a)/a # SyntaxError: invalid syntax\u001b[0m\n\u001b[1;37m          ^\u001b[0m\n\u001b[1;31mSyntaxError\u001b[0m\u001b[1;31m:\u001b[0m invalid syntax\n"
     ]
    }
   ],
   "source": [
    "a = 10\n",
    "b = 15 \n",
    "6Change = 100 * (b – a)/a # SyntaxError: invalid syntax"
   ]
  },
  {
   "cell_type": "code",
   "execution_count": 5,
   "metadata": {},
   "outputs": [
    {
     "name": "stdout",
     "output_type": "stream",
     "text": [
      "1400.0\n"
     ]
    }
   ],
   "source": [
    "a = 5\n",
    "b = 15\n",
    "percent_change =  100 * (b - a  /  a)\n",
    "print(percent_change) # 1400% ??? semantic error"
   ]
  },
  {
   "cell_type": "code",
   "execution_count": 6,
   "metadata": {},
   "outputs": [
    {
     "ename": "ZeroDivisionError",
     "evalue": "division by zero",
     "output_type": "error",
     "traceback": [
      "\u001b[1;31m---------------------------------------------------------------------------\u001b[0m",
      "\u001b[1;31mZeroDivisionError\u001b[0m                         Traceback (most recent call last)",
      "\u001b[1;32m<ipython-input-6-876360a337bc>\u001b[0m in \u001b[0;36m<module>\u001b[1;34m\u001b[0m\n\u001b[0;32m      1\u001b[0m \u001b[0ma\u001b[0m \u001b[1;33m=\u001b[0m \u001b[1;36m0\u001b[0m\u001b[1;33m\u001b[0m\u001b[0m\n\u001b[0;32m      2\u001b[0m \u001b[0mb\u001b[0m \u001b[1;33m=\u001b[0m \u001b[1;36m15\u001b[0m\u001b[1;33m\u001b[0m\u001b[0m\n\u001b[1;32m----> 3\u001b[1;33m \u001b[0mPercentChange\u001b[0m \u001b[1;33m=\u001b[0m \u001b[1;36m100\u001b[0m \u001b[1;33m*\u001b[0m \u001b[1;33m(\u001b[0m\u001b[0mb\u001b[0m \u001b[1;33m-\u001b[0m \u001b[0ma\u001b[0m\u001b[1;33m)\u001b[0m\u001b[1;33m/\u001b[0m \u001b[0ma\u001b[0m \u001b[1;31m# ZeroDivisionError: division by zero\u001b[0m\u001b[1;33m\u001b[0m\u001b[0m\n\u001b[0m",
      "\u001b[1;31mZeroDivisionError\u001b[0m: division by zero"
     ]
    }
   ],
   "source": [
    "a = 0\n",
    "b = 15\n",
    "PercentChange = 100 * (b - a)/ a # ZeroDivisionError: division by zero -- run-time error"
   ]
  },
  {
   "cell_type": "code",
   "execution_count": 8,
   "metadata": {},
   "outputs": [
    {
     "name": "stdout",
     "output_type": "stream",
     "text": [
      "Whoops, you can't divide by zero you silly zebra.\n",
      "Hey, this script is still being executed!\n"
     ]
    }
   ],
   "source": [
    "a = 0\n",
    "b = 15\n",
    "try:\n",
    "    PercentChange = 100 * (b - a)/ a # ZeroDivisionError: division by zero\n",
    "except ZeroDivisionError:\n",
    "    print(\"Whoops, you can't divide by zero you silly zebra.\")\n",
    "print(\"Hey, this script is still being executed!\") # error handling -- use try and except statements"
   ]
  },
  {
   "cell_type": "code",
   "execution_count": 9,
   "metadata": {},
   "outputs": [
    {
     "name": "stdout",
     "output_type": "stream",
     "text": [
      "hello world\n"
     ]
    }
   ],
   "source": [
    "# the variable greeting is created and assigned a string type value\n",
    "greeting = 'hello world'\n",
    "print(greeting)"
   ]
  },
  {
   "cell_type": "code",
   "execution_count": 10,
   "metadata": {},
   "outputs": [
    {
     "name": "stdout",
     "output_type": "stream",
     "text": [
      "True\n",
      "False\n"
     ]
    }
   ],
   "source": [
    "import keyword # import core module key word to test if a word is a key word\n",
    "print(keyword.iskeyword('raise')) # True\n",
    "print(keyword.iskeyword('alligator')) # False "
   ]
  },
  {
   "cell_type": "code",
   "execution_count": 11,
   "metadata": {},
   "outputs": [
    {
     "name": "stdout",
     "output_type": "stream",
     "text": [
      "hello world\n"
     ]
    }
   ],
   "source": [
    "# the variable greeting is created and assigned a string type value\n",
    "my_greeting = 'hello world' #snake_case naming convention instead of camelCase\n",
    "print(my_greeting)"
   ]
  },
  {
   "cell_type": "code",
   "execution_count": 12,
   "metadata": {},
   "outputs": [
    {
     "ename": "TypeError",
     "evalue": "unsupported operand type(s) for +: 'int' and 'str'",
     "output_type": "error",
     "traceback": [
      "\u001b[1;31m---------------------------------------------------------------------------\u001b[0m",
      "\u001b[1;31mTypeError\u001b[0m                                 Traceback (most recent call last)",
      "\u001b[1;32m<ipython-input-12-7e2a9c74a0bb>\u001b[0m in \u001b[0;36m<module>\u001b[1;34m\u001b[0m\n\u001b[0;32m      1\u001b[0m \u001b[0ma\u001b[0m \u001b[1;33m=\u001b[0m \u001b[1;36m4\u001b[0m\u001b[1;33m\u001b[0m\u001b[0m\n\u001b[0;32m      2\u001b[0m \u001b[0mb\u001b[0m \u001b[1;33m=\u001b[0m \u001b[1;34m'4'\u001b[0m\u001b[1;33m\u001b[0m\u001b[0m\n\u001b[1;32m----> 3\u001b[1;33m \u001b[0mc\u001b[0m \u001b[1;33m=\u001b[0m \u001b[0ma\u001b[0m \u001b[1;33m+\u001b[0m \u001b[0mb\u001b[0m  \u001b[1;31m# will throw a TypeError\u001b[0m\u001b[1;33m\u001b[0m\u001b[0m\n\u001b[0m",
      "\u001b[1;31mTypeError\u001b[0m: unsupported operand type(s) for +: 'int' and 'str'"
     ]
    }
   ],
   "source": [
    "a = 4\n",
    "b = '4'\n",
    "c = a + b  # will throw a TypeError because Python is a strongly typed language"
   ]
  },
  {
   "cell_type": "code",
   "execution_count": 13,
   "metadata": {},
   "outputs": [
    {
     "data": {
      "text/plain": [
       "8"
      ]
     },
     "execution_count": 13,
     "metadata": {},
     "output_type": "execute_result"
    }
   ],
   "source": [
    "a = 4\n",
    "b = '4'\n",
    "c = a + int(b) # converts the str value to integer\n",
    "c # output is 8"
   ]
  },
  {
   "cell_type": "code",
   "execution_count": 14,
   "metadata": {},
   "outputs": [
    {
     "name": "stdout",
     "output_type": "stream",
     "text": [
      "True\n",
      "False\n",
      "True\n",
      "False\n",
      "True\n",
      "True\n",
      "False\n"
     ]
    }
   ],
   "source": [
    "print(26 == 26)           # True # operator examples\n",
    "print(26 == 42)           # False\n",
    "print('hello' == 'hello') # True\n",
    "print('hello' == 'Hello') # False\n",
    "print('cat' != 'cow')     # True\n",
    "print(42 == 42.0 )        # True\n",
    "print(42 == '42')         # False"
   ]
  },
  {
   "cell_type": "code",
   "execution_count": 2,
   "metadata": {},
   "outputs": [
    {
     "name": "stdout",
     "output_type": "stream",
     "text": [
      "(90.2, 34.9)\n"
     ]
    }
   ],
   "source": [
    "coords = [90.2,34.9]\n",
    "coords_tuple = tuple(coords)\n",
    "print(coords_tuple) # (90.2, 34.9)"
   ]
  },
  {
   "cell_type": "code",
   "execution_count": 3,
   "metadata": {},
   "outputs": [
    {
     "name": "stdout",
     "output_type": "stream",
     "text": [
      "4\n",
      "<class 'int'>\n"
     ]
    }
   ],
   "source": [
    "number = 4\n",
    "print(number) # 4\n",
    "print(type(4)) # <class 'int'>"
   ]
  },
  {
   "cell_type": "code",
   "execution_count": 4,
   "metadata": {},
   "outputs": [
    {
     "name": "stdout",
     "output_type": "stream",
     "text": [
      "4.5\n",
      "<class 'float'>\n"
     ]
    }
   ],
   "source": [
    "number = 4.5\n",
    "print(number) # 4.5\n",
    "print(type(number)) # <class 'float'>"
   ]
  },
  {
   "cell_type": "code",
   "execution_count": 5,
   "metadata": {},
   "outputs": [
    {
     "name": "stdout",
     "output_type": "stream",
     "text": [
      "<class 'int'> <class 'float'>\n",
      "9.5 <class 'float'>\n"
     ]
    }
   ],
   "source": [
    "# using floats and ints together doesn't throw error\n",
    "a = 4\n",
    "b = 5.5\n",
    "print(type(a), type(b)) # <class 'int'> <class 'float'>\n",
    "c = a + b\n",
    "print(c, type(c)) # 9.5 <class 'float'>"
   ]
  },
  {
   "cell_type": "code",
   "execution_count": 6,
   "metadata": {},
   "outputs": [
    {
     "name": "stdout",
     "output_type": "stream",
     "text": [
      "<class 'int'> <class 'int'>\n",
      "1.0 <class 'float'>\n"
     ]
    }
   ],
   "source": [
    "a = 4\n",
    "b = 4\n",
    "print(type(a), type(b)) # <class 'int'> <class 'int'>\n",
    "c = a/b\n",
    "print(c, type(c)) # <class 'float'>"
   ]
  },
  {
   "cell_type": "code",
   "execution_count": 7,
   "metadata": {},
   "outputs": [
    {
     "name": "stdout",
     "output_type": "stream",
     "text": [
      "a text string\n",
      "another text string\n",
      "I'm texting.\n"
     ]
    }
   ],
   "source": [
    "a = 'a text string'\n",
    "print(a)\n",
    "b = \"another text string\"\n",
    "print(b)\n",
    "c = 'I\\'m texting.' # backslash to escape the single quote\n",
    "print(c) # I'm texting."
   ]
  },
  {
   "cell_type": "code",
   "execution_count": 8,
   "metadata": {},
   "outputs": [
    {
     "name": "stdout",
     "output_type": "stream",
     "text": [
      "a\n",
      "b\n"
     ]
    },
    {
     "ename": "IndexError",
     "evalue": "string index out of range",
     "output_type": "error",
     "traceback": [
      "\u001b[1;31m---------------------------------------------------------------------------\u001b[0m",
      "\u001b[1;31mIndexError\u001b[0m                                Traceback (most recent call last)",
      "\u001b[1;32m<ipython-input-8-8e4889b3026f>\u001b[0m in \u001b[0;36m<module>\u001b[1;34m\u001b[0m\n\u001b[0;32m      3\u001b[0m \u001b[0msecond_letter\u001b[0m \u001b[1;33m=\u001b[0m \u001b[0mletters\u001b[0m\u001b[1;33m[\u001b[0m\u001b[1;36m1\u001b[0m\u001b[1;33m]\u001b[0m\u001b[1;33m\u001b[0m\u001b[0m\n\u001b[0;32m      4\u001b[0m \u001b[0mprint\u001b[0m\u001b[1;33m(\u001b[0m\u001b[0msecond_letter\u001b[0m\u001b[1;33m)\u001b[0m \u001b[1;31m# b\u001b[0m\u001b[1;33m\u001b[0m\u001b[0m\n\u001b[1;32m----> 5\u001b[1;33m \u001b[0mprint\u001b[0m\u001b[1;33m(\u001b[0m\u001b[0mletters\u001b[0m\u001b[1;33m[\u001b[0m\u001b[1;36m7\u001b[0m\u001b[1;33m]\u001b[0m\u001b[1;33m)\u001b[0m \u001b[1;31m#IndexError: string index out of range\u001b[0m\u001b[1;33m\u001b[0m\u001b[0m\n\u001b[0m",
      "\u001b[1;31mIndexError\u001b[0m: string index out of range"
     ]
    }
   ],
   "source": [
    "letters = 'abcdefg'\n",
    "print(letters[0]) # a\n",
    "second_letter = letters[1]\n",
    "print(second_letter) # b\n",
    "print(letters[7]) #IndexError: string index out of range"
   ]
  },
  {
   "cell_type": "code",
   "execution_count": 9,
   "metadata": {},
   "outputs": [
    {
     "name": "stdout",
     "output_type": "stream",
     "text": [
      "cdef\n"
     ]
    }
   ],
   "source": [
    "letters = 'abcdefg'\n",
    "sliced = letters[2:6]\n",
    "print(sliced) # cdef"
   ]
  },
  {
   "cell_type": "code",
   "execution_count": 10,
   "metadata": {},
   "outputs": [
    {
     "name": "stdout",
     "output_type": "stream",
     "text": [
      "cdefg\n"
     ]
    }
   ],
   "source": [
    "letters = 'abcdefg'\n",
    "sliced = letters[2:]\n",
    "print(sliced) # cdefg"
   ]
  },
  {
   "cell_type": "code",
   "execution_count": 11,
   "metadata": {},
   "outputs": [
    {
     "name": "stdout",
     "output_type": "stream",
     "text": [
      "abcd\n"
     ]
    }
   ],
   "source": [
    "letters = 'abcdefg'\n",
    "sliced = letters[:4]\n",
    "print(sliced) # abcd"
   ]
  },
  {
   "cell_type": "code",
   "execution_count": 12,
   "metadata": {},
   "outputs": [
    {
     "name": "stdout",
     "output_type": "stream",
     "text": [
      "bdf\n"
     ]
    }
   ],
   "source": [
    "letters = 'abcdefg'\n",
    "sliced = letters[1:6:2]\n",
    "print(sliced) # bdf"
   ]
  },
  {
   "cell_type": "code",
   "execution_count": 13,
   "metadata": {},
   "outputs": [
    {
     "name": "stdout",
     "output_type": "stream",
     "text": [
      "g\n",
      "e\n"
     ]
    }
   ],
   "source": [
    "letters = 'abcdefg'\n",
    "last_element = letters[-1]\n",
    "print(last_element) # g\n",
    "third_to_last_element = letters[-3]\n",
    "print(third_to_last_element) # e"
   ]
  },
  {
   "cell_type": "code",
   "execution_count": 14,
   "metadata": {},
   "outputs": [
    {
     "ename": "TypeError",
     "evalue": "'str' object does not support item assignment",
     "output_type": "error",
     "traceback": [
      "\u001b[1;31m---------------------------------------------------------------------------\u001b[0m",
      "\u001b[1;31mTypeError\u001b[0m                                 Traceback (most recent call last)",
      "\u001b[1;32m<ipython-input-14-50c2aaca5582>\u001b[0m in \u001b[0;36m<module>\u001b[1;34m\u001b[0m\n\u001b[0;32m      1\u001b[0m \u001b[1;31m# strings are immutable\u001b[0m\u001b[1;33m\u001b[0m\u001b[1;33m\u001b[0m\u001b[0m\n\u001b[0;32m      2\u001b[0m \u001b[0mletters\u001b[0m \u001b[1;33m=\u001b[0m \u001b[1;34m'abcdefg'\u001b[0m\u001b[1;33m\u001b[0m\u001b[0m\n\u001b[1;32m----> 3\u001b[1;33m \u001b[0mletters\u001b[0m\u001b[1;33m[\u001b[0m\u001b[1;36m2\u001b[0m\u001b[1;33m]\u001b[0m \u001b[1;33m=\u001b[0m \u001b[1;34m'm'\u001b[0m \u001b[1;31m#TypeError: 'str' object does not support item assignment\u001b[0m\u001b[1;33m\u001b[0m\u001b[0m\n\u001b[0m",
      "\u001b[1;31mTypeError\u001b[0m: 'str' object does not support item assignment"
     ]
    }
   ],
   "source": [
    "# strings are immutable\n",
    "# have to reassign variable to get effect\n",
    "letters = 'abcdefg'\n",
    "letters[2] = 'm' #TypeError: 'str' object does not support item assignment"
   ]
  },
  {
   "cell_type": "code",
   "execution_count": 15,
   "metadata": {},
   "outputs": [
    {
     "name": "stdout",
     "output_type": "stream",
     "text": [
      "I am a string \n",
      "string string string string string string \n"
     ]
    }
   ],
   "source": [
    "s = 'string '\n",
    "s2 = 'I am a ' + s\n",
    "print(s2) # I am a string\n",
    "print(s*6) # string string string string string string "
   ]
  },
  {
   "cell_type": "code",
   "execution_count": 16,
   "metadata": {},
   "outputs": [
    {
     "name": "stdout",
     "output_type": "stream",
     "text": [
      "False\n",
      "True\n"
     ]
    }
   ],
   "source": [
    "a = 'abc'\n",
    "b = 'bcd'\n",
    "print(a > b) # False\n",
    "print(a < b) # True"
   ]
  },
  {
   "cell_type": "code",
   "execution_count": 17,
   "metadata": {},
   "outputs": [
    {
     "name": "stdout",
     "output_type": "stream",
     "text": [
      "True\n"
     ]
    }
   ],
   "source": [
    "# can use 'in' or 'not in'\n",
    "animal = 'alligator'\n",
    "print('gator' in animal) # True"
   ]
  },
  {
   "cell_type": "code",
   "execution_count": 18,
   "metadata": {},
   "outputs": [
    {
     "name": "stdout",
     "output_type": "stream",
     "text": [
      "Paging Mr.Dobalina. Mr.Bob Dobalina.\n"
     ]
    }
   ],
   "source": [
    "first_name = 'Bob'\n",
    "last_name = 'Dobalina'\n",
    "output = f'Paging Mr.{last_name}. Mr.{first_name} {last_name}.'\n",
    "print(output) #Paging Mr.Dobalina. Mr.Bob Dobalina."
   ]
  },
  {
   "cell_type": "code",
   "execution_count": 19,
   "metadata": {},
   "outputs": [
    {
     "name": "stdout",
     "output_type": "stream",
     "text": [
      "3 c a\n",
      "4.6 <class 'str'>\n"
     ]
    }
   ],
   "source": [
    "length = len('abc') # length\n",
    "highest_char = max('abc') \n",
    "lowest_char = min('abc')\n",
    "print(length, highest_char, lowest_char) # 3 c a\n",
    "stringified = str(4.6)    \n",
    "print(stringified, type(stringified)) #4.6 <class 'str'>"
   ]
  },
  {
   "cell_type": "code",
   "execution_count": 23,
   "metadata": {},
   "outputs": [
    {
     "name": "stdout",
     "output_type": "stream",
     "text": [
      "CARTOGRAPHER\n",
      "rehpargotrac\n",
      "director\n",
      "the early bird catches the worm\n"
     ]
    }
   ],
   "source": [
    "job = 'cartographer'\n",
    "print(job.upper()) # CARTOGRAPHER\n",
    "job_reversed = ''.join(list(reversed(job)))\n",
    "print(''.join(list(reversed(job)))) # got this 'true method to reverse output string' from Lee on our Slack\n",
    "title = 'DIRECTOR'\n",
    "print(title.lower()) # director\n",
    "phrase = '   the early bird catches the worm  '\n",
    "print(phrase.strip()) #the early bird catches the worm"
   ]
  },
  {
   "cell_type": "code",
   "execution_count": 24,
   "metadata": {},
   "outputs": [
    {
     "name": "stdout",
     "output_type": "stream",
     "text": [
      "True\n",
      "False\n"
     ]
    }
   ],
   "source": [
    "number = \"155\"\n",
    "letters = \"abcdef\"\n",
    "\n",
    "print(number.isnumeric()) # True\n",
    "print(letters.isnumeric()) # False"
   ]
  },
  {
   "cell_type": "code",
   "execution_count": 25,
   "metadata": {},
   "outputs": [
    {
     "name": "stdout",
     "output_type": "stream",
     "text": [
      "1,3,6,2,5,4,8\n"
     ]
    }
   ],
   "source": [
    "s = ','\n",
    "s2 = '1362548'\n",
    "with_commas = s.join(s2)\n",
    "print(with_commas) # 1,3,6,2,5,4,8"
   ]
  },
  {
   "cell_type": "code",
   "execution_count": 26,
   "metadata": {},
   "outputs": [
    {
     "name": "stdout",
     "output_type": "stream",
     "text": [
      "['a', 'horse', 'walks', 'into', 'a', 'bar']\n"
     ]
    }
   ],
   "source": [
    "phrase = 'a horse walks into a bar'\n",
    "print(phrase.split()) # ['a', 'horse', 'walks', 'into', 'a', 'bar']"
   ]
  },
  {
   "cell_type": "code",
   "execution_count": 27,
   "metadata": {},
   "outputs": [
    {
     "name": "stdout",
     "output_type": "stream",
     "text": [
      "['A long long time ago', ' in a galaxy far away', ' Naboo was under an attack']\n"
     ]
    }
   ],
   "source": [
    "# Weird Al 4 Life\n",
    "lyrics = 'A long long time ago, in a galaxy far away, Naboo was under an attack'\n",
    "print(lyrics.split(',')) # ['A long long time ago', ' in a galaxy far away', ' Naboo was under an attack']"
   ]
  },
  {
   "cell_type": "code",
   "execution_count": 28,
   "metadata": {},
   "outputs": [
    {
     "name": "stdout",
     "output_type": "stream",
     "text": [
      "6\n"
     ]
    }
   ],
   "source": [
    "print('geocomputing'.find('p')) # 6"
   ]
  },
  {
   "cell_type": "code",
   "execution_count": 29,
   "metadata": {},
   "outputs": [
    {
     "name": "stdout",
     "output_type": "stream",
     "text": [
      "boots and cows and boots and cows and boots and cows\n"
     ]
    }
   ],
   "source": [
    "song = 'boots and cats and boots and cats and boots and cats'\n",
    "improved = song.replace('cats', 'cows')\n",
    "print(improved) # boots and cows and boots and cows and boots and cows"
   ]
  },
  {
   "cell_type": "code",
   "execution_count": 2,
   "metadata": {},
   "outputs": [
    {
     "name": "stdout",
     "output_type": "stream",
     "text": [
      "[[1, 2, 3, 4, 5, 6], ['cat', 'cow', 'crow', 'downward dog']]\n"
     ]
    }
   ],
   "source": [
    "# lists are also sequence objects, like strings, but they are mutable and don't need to be characters\n",
    "nums = [1,2,3,4,5,6]\n",
    "strings = ['cat','cow','crow','downward dog']\n",
    "lists = [[1,2,3,4,5,6],['cat','cow','crow','downward dog']]\n",
    "lists2 = [nums,strings]\n",
    "\n",
    "print(lists2) # add print"
   ]
  },
  {
   "cell_type": "code",
   "execution_count": 3,
   "metadata": {},
   "outputs": [
    {
     "name": "stdout",
     "output_type": "stream",
     "text": [
      "1\n",
      "4\n"
     ]
    },
    {
     "ename": "IndexError",
     "evalue": "list index out of range",
     "output_type": "error",
     "traceback": [
      "\u001b[1;31m---------------------------------------------------------------------------\u001b[0m",
      "\u001b[1;31mIndexError\u001b[0m                                Traceback (most recent call last)",
      "\u001b[1;32m<ipython-input-3-5faa9b1d3469>\u001b[0m in \u001b[0;36m<module>\u001b[1;34m\u001b[0m\n\u001b[0;32m      3\u001b[0m \u001b[0mprint\u001b[0m\u001b[1;33m(\u001b[0m\u001b[0mnums\u001b[0m\u001b[1;33m[\u001b[0m\u001b[1;36m0\u001b[0m\u001b[1;33m]\u001b[0m\u001b[1;33m)\u001b[0m \u001b[1;31m# 1\u001b[0m\u001b[1;33m\u001b[0m\u001b[0m\n\u001b[0;32m      4\u001b[0m \u001b[0mprint\u001b[0m\u001b[1;33m(\u001b[0m\u001b[0mnums\u001b[0m\u001b[1;33m[\u001b[0m\u001b[1;33m-\u001b[0m\u001b[1;36m2\u001b[0m\u001b[1;33m]\u001b[0m\u001b[1;33m)\u001b[0m \u001b[1;31m# 4\u001b[0m\u001b[1;33m\u001b[0m\u001b[0m\n\u001b[1;32m----> 5\u001b[1;33m \u001b[0mprint\u001b[0m\u001b[1;33m(\u001b[0m\u001b[0mnums\u001b[0m\u001b[1;33m[\u001b[0m\u001b[1;36m5\u001b[0m\u001b[1;33m]\u001b[0m\u001b[1;33m)\u001b[0m \u001b[1;31m# IndexError: list index out of range\u001b[0m\u001b[1;33m\u001b[0m\u001b[0m\n\u001b[0m\u001b[0;32m      6\u001b[0m \u001b[1;31m#slicing\u001b[0m\u001b[1;33m\u001b[0m\u001b[1;33m\u001b[0m\u001b[0m\n\u001b[0;32m      7\u001b[0m \u001b[0mprint\u001b[0m\u001b[1;33m(\u001b[0m\u001b[0mnums\u001b[0m\u001b[1;33m[\u001b[0m\u001b[1;36m1\u001b[0m\u001b[1;33m:\u001b[0m\u001b[1;36m3\u001b[0m\u001b[1;33m]\u001b[0m\u001b[1;33m)\u001b[0m \u001b[1;31m#[2,3]\u001b[0m\u001b[1;33m\u001b[0m\u001b[0m\n",
      "\u001b[1;31mIndexError\u001b[0m: list index out of range"
     ]
    }
   ],
   "source": [
    "nums = [1,2,3,4,5]\n",
    "#accessing\n",
    "print(nums[0]) # 1\n",
    "print(nums[-2]) # 4\n",
    "print(nums[5]) # IndexError: list index out of range\n",
    "#slicing\n",
    "print(nums[1:3]) #[2,3]\n",
    "print(nums[2:]) #[3,4,5]"
   ]
  },
  {
   "cell_type": "code",
   "execution_count": 4,
   "metadata": {},
   "outputs": [
    {
     "name": "stdout",
     "output_type": "stream",
     "text": [
      "c\n"
     ]
    }
   ],
   "source": [
    "a = [0, ['a','b','c','d','e'], 2, 3]\n",
    "print(a[1][2]) # c"
   ]
  },
  {
   "cell_type": "code",
   "execution_count": 5,
   "metadata": {},
   "outputs": [
    {
     "name": "stdout",
     "output_type": "stream",
     "text": [
      "[1, 'text', 3, 4]\n",
      "[1, 'a', 'b', 4]\n",
      "[1, 'b', 4]\n"
     ]
    }
   ],
   "source": [
    "a = [1,2,3,4]\n",
    "a[1] = 'text'\n",
    "print(a) # [1,’text’,3,4]\n",
    "a[1:3] = 'ab'\n",
    "print(a) # [1,’a’,’b’,4]\n",
    "del(a[1])\n",
    "print(a) # [1,’b’,4]"
   ]
  },
  {
   "cell_type": "code",
   "execution_count": 7,
   "metadata": {},
   "outputs": [
    {
     "name": "stdout",
     "output_type": "stream",
     "text": [
      "[1, 2, 3, 4, 5, 6]\n",
      "[1, 2, 3, 1, 2, 3, 1, 2, 3]\n"
     ]
    }
   ],
   "source": [
    "# concatenating lists\n",
    "first = [1,2,3]\n",
    "second = [4,5,6]\n",
    "combined = first + second\n",
    "print(combined) # [1, 2, 3, 4, 5, 6]\n",
    "# replicating lists\n",
    "repeated = first * 3 # changed typo here from + to *\n",
    "print(repeated) # [1, 2, 3, 1, 2, 3, 1, 2, 3]"
   ]
  },
  {
   "cell_type": "code",
   "execution_count": 8,
   "metadata": {},
   "outputs": [
    {
     "name": "stdout",
     "output_type": "stream",
     "text": [
      "True\n",
      "False\n"
     ]
    }
   ],
   "source": [
    "tools = ['Python', 'JS', 'GDAL', 'QGIS']\n",
    "print('JS' in tools) # True\n",
    "print('JS' not in tools) # False"
   ]
  },
  {
   "cell_type": "code",
   "execution_count": 9,
   "metadata": {},
   "outputs": [
    {
     "name": "stdout",
     "output_type": "stream",
     "text": [
      "3\n",
      "21\n",
      "Z\n"
     ]
    }
   ],
   "source": [
    "print(len([10,21,17])) # 3\n",
    "print(max([10,21,17])) # 21\n",
    "print(min(['a','Z','z'])) # Z"
   ]
  },
  {
   "cell_type": "code",
   "execution_count": 11,
   "metadata": {},
   "outputs": [
    {
     "name": "stdout",
     "output_type": "stream",
     "text": [
      "Help on list object:\n",
      "\n",
      "class list(object)\n",
      " |  list(iterable=(), /)\n",
      " |  \n",
      " |  Built-in mutable sequence.\n",
      " |  \n",
      " |  If no argument is given, the constructor creates a new empty list.\n",
      " |  The argument must be an iterable if specified.\n",
      " |  \n",
      " |  Methods defined here:\n",
      " |  \n",
      " |  __add__(self, value, /)\n",
      " |      Return self+value.\n",
      " |  \n",
      " |  __contains__(self, key, /)\n",
      " |      Return key in self.\n",
      " |  \n",
      " |  __delitem__(self, key, /)\n",
      " |      Delete self[key].\n",
      " |  \n",
      " |  __eq__(self, value, /)\n",
      " |      Return self==value.\n",
      " |  \n",
      " |  __ge__(self, value, /)\n",
      " |      Return self>=value.\n",
      " |  \n",
      " |  __getattribute__(self, name, /)\n",
      " |      Return getattr(self, name).\n",
      " |  \n",
      " |  __getitem__(...)\n",
      " |      x.__getitem__(y) <==> x[y]\n",
      " |  \n",
      " |  __gt__(self, value, /)\n",
      " |      Return self>value.\n",
      " |  \n",
      " |  __iadd__(self, value, /)\n",
      " |      Implement self+=value.\n",
      " |  \n",
      " |  __imul__(self, value, /)\n",
      " |      Implement self*=value.\n",
      " |  \n",
      " |  __init__(self, /, *args, **kwargs)\n",
      " |      Initialize self.  See help(type(self)) for accurate signature.\n",
      " |  \n",
      " |  __iter__(self, /)\n",
      " |      Implement iter(self).\n",
      " |  \n",
      " |  __le__(self, value, /)\n",
      " |      Return self<=value.\n",
      " |  \n",
      " |  __len__(self, /)\n",
      " |      Return len(self).\n",
      " |  \n",
      " |  __lt__(self, value, /)\n",
      " |      Return self<value.\n",
      " |  \n",
      " |  __mul__(self, value, /)\n",
      " |      Return self*value.\n",
      " |  \n",
      " |  __ne__(self, value, /)\n",
      " |      Return self!=value.\n",
      " |  \n",
      " |  __repr__(self, /)\n",
      " |      Return repr(self).\n",
      " |  \n",
      " |  __reversed__(self, /)\n",
      " |      Return a reverse iterator over the list.\n",
      " |  \n",
      " |  __rmul__(self, value, /)\n",
      " |      Return value*self.\n",
      " |  \n",
      " |  __setitem__(self, key, value, /)\n",
      " |      Set self[key] to value.\n",
      " |  \n",
      " |  __sizeof__(self, /)\n",
      " |      Return the size of the list in memory, in bytes.\n",
      " |  \n",
      " |  append(self, object, /)\n",
      " |      Append object to the end of the list.\n",
      " |  \n",
      " |  clear(self, /)\n",
      " |      Remove all items from list.\n",
      " |  \n",
      " |  copy(self, /)\n",
      " |      Return a shallow copy of the list.\n",
      " |  \n",
      " |  count(self, value, /)\n",
      " |      Return number of occurrences of value.\n",
      " |  \n",
      " |  extend(self, iterable, /)\n",
      " |      Extend list by appending elements from the iterable.\n",
      " |  \n",
      " |  index(self, value, start=0, stop=9223372036854775807, /)\n",
      " |      Return first index of value.\n",
      " |      \n",
      " |      Raises ValueError if the value is not present.\n",
      " |  \n",
      " |  insert(self, index, object, /)\n",
      " |      Insert object before index.\n",
      " |  \n",
      " |  pop(self, index=-1, /)\n",
      " |      Remove and return item at index (default last).\n",
      " |      \n",
      " |      Raises IndexError if list is empty or index is out of range.\n",
      " |  \n",
      " |  remove(self, value, /)\n",
      " |      Remove first occurrence of value.\n",
      " |      \n",
      " |      Raises ValueError if the value is not present.\n",
      " |  \n",
      " |  reverse(self, /)\n",
      " |      Reverse *IN PLACE*.\n",
      " |  \n",
      " |  sort(self, /, *, key=None, reverse=False)\n",
      " |      Stable sort *IN PLACE*.\n",
      " |  \n",
      " |  ----------------------------------------------------------------------\n",
      " |  Static methods defined here:\n",
      " |  \n",
      " |  __new__(*args, **kwargs) from builtins.type\n",
      " |      Create and return a new object.  See help(type) for accurate signature.\n",
      " |  \n",
      " |  ----------------------------------------------------------------------\n",
      " |  Data and other attributes defined here:\n",
      " |  \n",
      " |  __hash__ = None\n",
      "\n"
     ]
    }
   ],
   "source": [
    "nums = [1,2,3,4,5] # typo correct, deleted 'var'\n",
    "help(nums)\n",
    "#  |  append(self, object, /)\n",
    "#|      Append object to the end of the list"
   ]
  },
  {
   "cell_type": "code",
   "execution_count": 12,
   "metadata": {},
   "outputs": [
    {
     "name": "stdout",
     "output_type": "stream",
     "text": [
      "[1, 2, 3, 4, 5, 6]\n",
      "[0, 1, 2, 3, 4, 5, 6]\n",
      "[6, 5, 4, 3, 2, 1, 0]\n"
     ]
    }
   ],
   "source": [
    "nums = [1,2,3,4,5]\n",
    "nums.append(6)\n",
    "print(nums) # [1, 2, 3, 4, 5, 6]\n",
    "nums.insert(0,0)\n",
    "print(nums) # [1, 2, 3, 4, 5, 6]\n",
    "[0, 1, 2, 3, 4, 5, 6]\n",
    "nums.reverse()\n",
    "print(nums) # [6, 5, 4, 3, 2, 1, 0]"
   ]
  },
  {
   "cell_type": "code",
   "execution_count": 14,
   "metadata": {},
   "outputs": [
    {
     "name": "stdout",
     "output_type": "stream",
     "text": [
      "[1, 2, 3, 4]\n",
      "[1, 2, 3, 4]\n",
      "[1, 2, 3]\n",
      "[1, 2, 3, 4]\n"
     ]
    }
   ],
   "source": [
    "list_a = [1,2,3]\n",
    "list_b = list_a\n",
    "list_b.append(4)\n",
    "print(list_a) # [1, 2, 3, 4]\n",
    "print(list_b) # [1, 2, 3, 4]\n",
    "\n",
    "list_a = [1,2,3]\n",
    "list_b = list_a.copy()\n",
    "list_b.append(4) # add a new value to the end of list_b list\n",
    "print(list_a) # [1, 2, 3]\n",
    "print(list_b) # [1, 2, 3, 4]"
   ]
  },
  {
   "cell_type": "code",
   "execution_count": 15,
   "metadata": {},
   "outputs": [
    {
     "name": "stdout",
     "output_type": "stream",
     "text": [
      "<class 'tuple'>\n"
     ]
    }
   ],
   "source": [
    "# tuple is values separated by comma\n",
    "# like a list, but immutable\n",
    "horses = ('Appaloosa', 'Brumby', 'Colorado Ranger')\n",
    "print(type(horses)) # <class 'tuple'>"
   ]
  },
  {
   "cell_type": "code",
   "execution_count": 16,
   "metadata": {},
   "outputs": [
    {
     "ename": "TypeError",
     "evalue": "'tuple' object does not support item assignment",
     "output_type": "error",
     "traceback": [
      "\u001b[1;31m---------------------------------------------------------------------------\u001b[0m",
      "\u001b[1;31mTypeError\u001b[0m                                 Traceback (most recent call last)",
      "\u001b[1;32m<ipython-input-16-15a5fc993287>\u001b[0m in \u001b[0;36m<module>\u001b[1;34m\u001b[0m\n\u001b[0;32m      1\u001b[0m \u001b[0mhorses\u001b[0m \u001b[1;33m=\u001b[0m \u001b[1;33m(\u001b[0m\u001b[1;34m'Appaloosa'\u001b[0m\u001b[1;33m,\u001b[0m \u001b[1;34m'Brumby'\u001b[0m\u001b[1;33m,\u001b[0m \u001b[1;34m'Colorado Ranger'\u001b[0m\u001b[1;33m)\u001b[0m\u001b[1;33m\u001b[0m\u001b[0m\n\u001b[1;32m----> 2\u001b[1;33m \u001b[0mhorses\u001b[0m\u001b[1;33m[\u001b[0m\u001b[1;36m2\u001b[0m\u001b[1;33m]\u001b[0m \u001b[1;33m=\u001b[0m \u001b[1;34m'Boerperd'\u001b[0m \u001b[1;31m# TypeError: 'tuple' object does not support item assignment\u001b[0m\u001b[1;33m\u001b[0m\u001b[0m\n\u001b[0m",
      "\u001b[1;31mTypeError\u001b[0m: 'tuple' object does not support item assignment"
     ]
    }
   ],
   "source": [
    "horses = ('Appaloosa', 'Brumby', 'Colorado Ranger')\n",
    "horses[2] = 'Boerperd' # TypeError: 'tuple' object does not support item assignment"
   ]
  },
  {
   "cell_type": "code",
   "execution_count": 17,
   "metadata": {},
   "outputs": [
    {
     "name": "stdout",
     "output_type": "stream",
     "text": [
      "3\n",
      "21\n",
      "Z\n"
     ]
    }
   ],
   "source": [
    "print(len((10,21,17))) # 3\n",
    "print(max((10,21,17))) # 21\n",
    "print(min(('a','Z','z'))) # Z"
   ]
  },
  {
   "cell_type": "code",
   "execution_count": 19,
   "metadata": {},
   "outputs": [
    {
     "name": "stdout",
     "output_type": "stream",
     "text": [
      "1\n",
      "3\n",
      "2.0\n",
      "[40, 41]\n"
     ]
    }
   ],
   "source": [
    "a_tuple = (1,2,3,4)\n",
    "b_tuple = (1,2.,'3',[40,41])\n",
    "a,b,c,d = a_tuple\n",
    "print(a) # 1\n",
    "print(c) # 3\n",
    "\n",
    "one,two,three,four = b_tuple # fix typo \n",
    "print(two) # 2.0\n",
    "print(four) # [40, 41]"
   ]
  },
  {
   "cell_type": "code",
   "execution_count": null,
   "metadata": {},
   "outputs": [],
   "source": []
  }
 ],
 "metadata": {
  "kernelspec": {
   "display_name": "Python 3",
   "language": "python",
   "name": "python3"
  },
  "language_info": {
   "codemirror_mode": {
    "name": "ipython",
    "version": 3
   },
   "file_extension": ".py",
   "mimetype": "text/x-python",
   "name": "python",
   "nbconvert_exporter": "python",
   "pygments_lexer": "ipython3",
   "version": "3.7.0"
  }
 },
 "nbformat": 4,
 "nbformat_minor": 2
}
